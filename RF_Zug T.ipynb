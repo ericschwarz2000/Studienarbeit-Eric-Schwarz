{
 "cells": [
  {
   "cell_type": "code",
   "execution_count": 2,
   "id": "c7ed246f",
   "metadata": {},
   "outputs": [],
   "source": [
    "import numpy as np\n",
    "import pandas as pd\n",
    "import matplotlib.pyplot as plt\n",
    "import seaborn as sns\n",
    "from sklearn.metrics import mean_squared_error\n",
    "from sklearn.model_selection import cross_val_score\n",
    "from collections import Counter\n",
    "from sklearn.ensemble import RandomForestRegressor\n",
    "from sklearn.datasets import make_regression\n",
    "from sklearn.model_selection import train_test_split\n",
    "from sklearn.metrics import mean_squared_error,mean_absolute_error\n",
    "import joblib"
   ]
  },
  {
   "cell_type": "code",
   "execution_count": 3,
   "id": "369efb3a",
   "metadata": {},
   "outputs": [
    {
     "data": {
      "text/html": [
       "<div>\n",
       "<style scoped>\n",
       "    .dataframe tbody tr th:only-of-type {\n",
       "        vertical-align: middle;\n",
       "    }\n",
       "\n",
       "    .dataframe tbody tr th {\n",
       "        vertical-align: top;\n",
       "    }\n",
       "\n",
       "    .dataframe thead th {\n",
       "        text-align: right;\n",
       "    }\n",
       "</style>\n",
       "<table border=\"1\" class=\"dataframe\">\n",
       "  <thead>\n",
       "    <tr style=\"text-align: right;\">\n",
       "      <th></th>\n",
       "      <th>Zugfestigkeit</th>\n",
       "      <th>Schichtdicke</th>\n",
       "      <th>Temperatur</th>\n",
       "      <th>Geschwindigkeit</th>\n",
       "      <th>Fülldichte</th>\n",
       "    </tr>\n",
       "  </thead>\n",
       "  <tbody>\n",
       "    <tr>\n",
       "      <th>0</th>\n",
       "      <td>46.795370</td>\n",
       "      <td>0.2</td>\n",
       "      <td>210</td>\n",
       "      <td>60</td>\n",
       "      <td>50</td>\n",
       "    </tr>\n",
       "    <tr>\n",
       "      <th>1</th>\n",
       "      <td>43.359370</td>\n",
       "      <td>0.2</td>\n",
       "      <td>210</td>\n",
       "      <td>60</td>\n",
       "      <td>75</td>\n",
       "    </tr>\n",
       "    <tr>\n",
       "      <th>2</th>\n",
       "      <td>45.241055</td>\n",
       "      <td>0.2</td>\n",
       "      <td>210</td>\n",
       "      <td>60</td>\n",
       "      <td>25</td>\n",
       "    </tr>\n",
       "    <tr>\n",
       "      <th>3</th>\n",
       "      <td>44.715270</td>\n",
       "      <td>0.2</td>\n",
       "      <td>210</td>\n",
       "      <td>60</td>\n",
       "      <td>100</td>\n",
       "    </tr>\n",
       "    <tr>\n",
       "      <th>4</th>\n",
       "      <td>47.758520</td>\n",
       "      <td>0.1</td>\n",
       "      <td>210</td>\n",
       "      <td>60</td>\n",
       "      <td>25</td>\n",
       "    </tr>\n",
       "  </tbody>\n",
       "</table>\n",
       "</div>"
      ],
      "text/plain": [
       "   Zugfestigkeit  Schichtdicke  Temperatur  Geschwindigkeit  Fülldichte\n",
       "0      46.795370           0.2         210               60          50\n",
       "1      43.359370           0.2         210               60          75\n",
       "2      45.241055           0.2         210               60          25\n",
       "3      44.715270           0.2         210               60         100\n",
       "4      47.758520           0.1         210               60          25"
      ]
     },
     "execution_count": 3,
     "metadata": {},
     "output_type": "execute_result"
    }
   ],
   "source": [
    "dataset = pd.read_excel(\"all data 1.xlsx\",sheet_name=\"Zugwerte T Mittel\", usecols=[\"Schichtdicke\",\"Temperatur\",\"Geschwindigkeit\",\"Fülldichte\",\"Zugfestigkeit\"])\n",
    "dataset.head()"
   ]
  },
  {
   "cell_type": "code",
   "execution_count": 4,
   "id": "c17257dd",
   "metadata": {},
   "outputs": [
    {
     "data": {
      "text/html": [
       "<div>\n",
       "<style scoped>\n",
       "    .dataframe tbody tr th:only-of-type {\n",
       "        vertical-align: middle;\n",
       "    }\n",
       "\n",
       "    .dataframe tbody tr th {\n",
       "        vertical-align: top;\n",
       "    }\n",
       "\n",
       "    .dataframe thead th {\n",
       "        text-align: right;\n",
       "    }\n",
       "</style>\n",
       "<table border=\"1\" class=\"dataframe\">\n",
       "  <thead>\n",
       "    <tr style=\"text-align: right;\">\n",
       "      <th></th>\n",
       "      <th>Zugfestigkeit</th>\n",
       "      <th>Schichtdicke</th>\n",
       "      <th>Temperatur</th>\n",
       "      <th>Geschwindigkeit</th>\n",
       "      <th>Fülldichte</th>\n",
       "    </tr>\n",
       "  </thead>\n",
       "  <tbody>\n",
       "    <tr>\n",
       "      <th>count</th>\n",
       "      <td>25.000000</td>\n",
       "      <td>25.000000</td>\n",
       "      <td>25.000000</td>\n",
       "      <td>25.000000</td>\n",
       "      <td>25.0</td>\n",
       "    </tr>\n",
       "    <tr>\n",
       "      <th>mean</th>\n",
       "      <td>45.278470</td>\n",
       "      <td>0.200000</td>\n",
       "      <td>208.800000</td>\n",
       "      <td>83.200000</td>\n",
       "      <td>43.0</td>\n",
       "    </tr>\n",
       "    <tr>\n",
       "      <th>std</th>\n",
       "      <td>1.658454</td>\n",
       "      <td>0.057735</td>\n",
       "      <td>8.812869</td>\n",
       "      <td>37.273762</td>\n",
       "      <td>27.5</td>\n",
       "    </tr>\n",
       "    <tr>\n",
       "      <th>min</th>\n",
       "      <td>42.505567</td>\n",
       "      <td>0.100000</td>\n",
       "      <td>190.000000</td>\n",
       "      <td>60.000000</td>\n",
       "      <td>25.0</td>\n",
       "    </tr>\n",
       "    <tr>\n",
       "      <th>25%</th>\n",
       "      <td>43.968611</td>\n",
       "      <td>0.200000</td>\n",
       "      <td>210.000000</td>\n",
       "      <td>60.000000</td>\n",
       "      <td>25.0</td>\n",
       "    </tr>\n",
       "    <tr>\n",
       "      <th>50%</th>\n",
       "      <td>45.241055</td>\n",
       "      <td>0.200000</td>\n",
       "      <td>210.000000</td>\n",
       "      <td>60.000000</td>\n",
       "      <td>25.0</td>\n",
       "    </tr>\n",
       "    <tr>\n",
       "      <th>75%</th>\n",
       "      <td>46.634280</td>\n",
       "      <td>0.200000</td>\n",
       "      <td>210.000000</td>\n",
       "      <td>100.000000</td>\n",
       "      <td>50.0</td>\n",
       "    </tr>\n",
       "    <tr>\n",
       "      <th>max</th>\n",
       "      <td>48.171357</td>\n",
       "      <td>0.300000</td>\n",
       "      <td>230.000000</td>\n",
       "      <td>180.000000</td>\n",
       "      <td>100.0</td>\n",
       "    </tr>\n",
       "  </tbody>\n",
       "</table>\n",
       "</div>"
      ],
      "text/plain": [
       "       Zugfestigkeit  Schichtdicke  Temperatur  Geschwindigkeit  Fülldichte\n",
       "count      25.000000     25.000000   25.000000        25.000000        25.0\n",
       "mean       45.278470      0.200000  208.800000        83.200000        43.0\n",
       "std         1.658454      0.057735    8.812869        37.273762        27.5\n",
       "min        42.505567      0.100000  190.000000        60.000000        25.0\n",
       "25%        43.968611      0.200000  210.000000        60.000000        25.0\n",
       "50%        45.241055      0.200000  210.000000        60.000000        25.0\n",
       "75%        46.634280      0.200000  210.000000       100.000000        50.0\n",
       "max        48.171357      0.300000  230.000000       180.000000       100.0"
      ]
     },
     "execution_count": 4,
     "metadata": {},
     "output_type": "execute_result"
    }
   ],
   "source": [
    "dataset.describe()"
   ]
  },
  {
   "cell_type": "code",
   "execution_count": 5,
   "id": "a0891feb",
   "metadata": {},
   "outputs": [
    {
     "name": "stdout",
     "output_type": "stream",
     "text": [
      "0     46.795370\n",
      "1     43.359370\n",
      "2     45.241055\n",
      "3     44.715270\n",
      "4     47.758520\n",
      "5     48.171357\n",
      "6     48.009037\n",
      "7     44.541888\n",
      "8     43.499576\n",
      "9     43.968611\n",
      "10    42.858942\n",
      "11    42.505567\n",
      "12    43.162756\n",
      "13    44.585304\n",
      "14    47.117642\n",
      "15    43.486735\n",
      "16    46.009959\n",
      "17    45.297242\n",
      "18    45.252330\n",
      "19    44.934828\n",
      "20    46.111213\n",
      "21    45.754902\n",
      "22    46.634280\n",
      "23    47.206660\n",
      "24    44.983322\n",
      "Name: Zugfestigkeit, dtype: float64\n"
     ]
    }
   ],
   "source": [
    "X = dataset.drop('Zugfestigkeit', axis = 1).values\n",
    "y = dataset['Zugfestigkeit']\n",
    "print(y)"
   ]
  },
  {
   "cell_type": "code",
   "execution_count": 6,
   "id": "bdf07a65",
   "metadata": {},
   "outputs": [],
   "source": [
    "X_train, X_test, y_train, y_test = train_test_split(X, y, test_size=0.25, random_state=42)\n"
   ]
  },
  {
   "cell_type": "code",
   "execution_count": 7,
   "id": "c27e5bb6",
   "metadata": {},
   "outputs": [],
   "source": [
    "rf_regressor = RandomForestRegressor(n_estimators=1500,max_depth=15, bootstrap=True, random_state=42)"
   ]
  },
  {
   "cell_type": "code",
   "execution_count": 8,
   "id": "d0140fa2",
   "metadata": {},
   "outputs": [
    {
     "data": {
      "text/html": [
       "<style>#sk-container-id-1 {color: black;}#sk-container-id-1 pre{padding: 0;}#sk-container-id-1 div.sk-toggleable {background-color: white;}#sk-container-id-1 label.sk-toggleable__label {cursor: pointer;display: block;width: 100%;margin-bottom: 0;padding: 0.3em;box-sizing: border-box;text-align: center;}#sk-container-id-1 label.sk-toggleable__label-arrow:before {content: \"▸\";float: left;margin-right: 0.25em;color: #696969;}#sk-container-id-1 label.sk-toggleable__label-arrow:hover:before {color: black;}#sk-container-id-1 div.sk-estimator:hover label.sk-toggleable__label-arrow:before {color: black;}#sk-container-id-1 div.sk-toggleable__content {max-height: 0;max-width: 0;overflow: hidden;text-align: left;background-color: #f0f8ff;}#sk-container-id-1 div.sk-toggleable__content pre {margin: 0.2em;color: black;border-radius: 0.25em;background-color: #f0f8ff;}#sk-container-id-1 input.sk-toggleable__control:checked~div.sk-toggleable__content {max-height: 200px;max-width: 100%;overflow: auto;}#sk-container-id-1 input.sk-toggleable__control:checked~label.sk-toggleable__label-arrow:before {content: \"▾\";}#sk-container-id-1 div.sk-estimator input.sk-toggleable__control:checked~label.sk-toggleable__label {background-color: #d4ebff;}#sk-container-id-1 div.sk-label input.sk-toggleable__control:checked~label.sk-toggleable__label {background-color: #d4ebff;}#sk-container-id-1 input.sk-hidden--visually {border: 0;clip: rect(1px 1px 1px 1px);clip: rect(1px, 1px, 1px, 1px);height: 1px;margin: -1px;overflow: hidden;padding: 0;position: absolute;width: 1px;}#sk-container-id-1 div.sk-estimator {font-family: monospace;background-color: #f0f8ff;border: 1px dotted black;border-radius: 0.25em;box-sizing: border-box;margin-bottom: 0.5em;}#sk-container-id-1 div.sk-estimator:hover {background-color: #d4ebff;}#sk-container-id-1 div.sk-parallel-item::after {content: \"\";width: 100%;border-bottom: 1px solid gray;flex-grow: 1;}#sk-container-id-1 div.sk-label:hover label.sk-toggleable__label {background-color: #d4ebff;}#sk-container-id-1 div.sk-serial::before {content: \"\";position: absolute;border-left: 1px solid gray;box-sizing: border-box;top: 0;bottom: 0;left: 50%;z-index: 0;}#sk-container-id-1 div.sk-serial {display: flex;flex-direction: column;align-items: center;background-color: white;padding-right: 0.2em;padding-left: 0.2em;position: relative;}#sk-container-id-1 div.sk-item {position: relative;z-index: 1;}#sk-container-id-1 div.sk-parallel {display: flex;align-items: stretch;justify-content: center;background-color: white;position: relative;}#sk-container-id-1 div.sk-item::before, #sk-container-id-1 div.sk-parallel-item::before {content: \"\";position: absolute;border-left: 1px solid gray;box-sizing: border-box;top: 0;bottom: 0;left: 50%;z-index: -1;}#sk-container-id-1 div.sk-parallel-item {display: flex;flex-direction: column;z-index: 1;position: relative;background-color: white;}#sk-container-id-1 div.sk-parallel-item:first-child::after {align-self: flex-end;width: 50%;}#sk-container-id-1 div.sk-parallel-item:last-child::after {align-self: flex-start;width: 50%;}#sk-container-id-1 div.sk-parallel-item:only-child::after {width: 0;}#sk-container-id-1 div.sk-dashed-wrapped {border: 1px dashed gray;margin: 0 0.4em 0.5em 0.4em;box-sizing: border-box;padding-bottom: 0.4em;background-color: white;}#sk-container-id-1 div.sk-label label {font-family: monospace;font-weight: bold;display: inline-block;line-height: 1.2em;}#sk-container-id-1 div.sk-label-container {text-align: center;}#sk-container-id-1 div.sk-container {/* jupyter's `normalize.less` sets `[hidden] { display: none; }` but bootstrap.min.css set `[hidden] { display: none !important; }` so we also need the `!important` here to be able to override the default hidden behavior on the sphinx rendered scikit-learn.org. See: https://github.com/scikit-learn/scikit-learn/issues/21755 */display: inline-block !important;position: relative;}#sk-container-id-1 div.sk-text-repr-fallback {display: none;}</style><div id=\"sk-container-id-1\" class=\"sk-top-container\"><div class=\"sk-text-repr-fallback\"><pre>RandomForestRegressor(max_depth=15, n_estimators=1500, random_state=42)</pre><b>In a Jupyter environment, please rerun this cell to show the HTML representation or trust the notebook. <br />On GitHub, the HTML representation is unable to render, please try loading this page with nbviewer.org.</b></div><div class=\"sk-container\" hidden><div class=\"sk-item\"><div class=\"sk-estimator sk-toggleable\"><input class=\"sk-toggleable__control sk-hidden--visually\" id=\"sk-estimator-id-1\" type=\"checkbox\" checked><label for=\"sk-estimator-id-1\" class=\"sk-toggleable__label sk-toggleable__label-arrow\">RandomForestRegressor</label><div class=\"sk-toggleable__content\"><pre>RandomForestRegressor(max_depth=15, n_estimators=1500, random_state=42)</pre></div></div></div></div></div>"
      ],
      "text/plain": [
       "RandomForestRegressor(max_depth=15, n_estimators=1500, random_state=42)"
      ]
     },
     "execution_count": 8,
     "metadata": {},
     "output_type": "execute_result"
    }
   ],
   "source": [
    "rf_regressor.fit(X_train, y_train)"
   ]
  },
  {
   "cell_type": "code",
   "execution_count": 9,
   "id": "9510774e",
   "metadata": {},
   "outputs": [],
   "source": [
    "y_pred = rf_regressor.predict(X_test)"
   ]
  },
  {
   "cell_type": "code",
   "execution_count": 10,
   "id": "92ab08b9",
   "metadata": {},
   "outputs": [],
   "source": [
    "mae = mean_absolute_error(y_test, y_pred)\n",
    "mse = mean_squared_error(y_test, y_pred)\n",
    "y_pred_rf_train = rf_regressor.predict(X_train)\n",
    "y_pred_rf_test = rf_regressor.predict(X_test)\n",
    "rmse_rf = (np.sqrt(mean_squared_error(y_test, y_pred_rf_test)))"
   ]
  },
  {
   "cell_type": "code",
   "execution_count": 11,
   "id": "f415ec2a",
   "metadata": {},
   "outputs": [
    {
     "name": "stdout",
     "output_type": "stream",
     "text": [
      "Mean Squared Error (MSE): 1.4650414319492029\n",
      "Mean absolute Error(MAE): 1.1122148050587677\n",
      "RMSE:  1.2103889589504702\n"
     ]
    }
   ],
   "source": [
    "print(\"Mean Squared Error (MSE):\", mse)\n",
    "print(\"Mean absolute Error(MAE):\", mae)\n",
    "print(\"RMSE: \", rmse_rf)"
   ]
  },
  {
   "cell_type": "code",
   "execution_count": 32,
   "id": "f7cbba2e",
   "metadata": {},
   "outputs": [
    {
     "name": "stdout",
     "output_type": "stream",
     "text": [
      "    Real Values  Predicted Values\n",
      "8     43.499576         44.387649\n",
      "16    46.009959         45.217123\n",
      "0     46.795370         45.127492\n",
      "23    47.206660         46.471084\n",
      "11    42.505567         43.875691\n"
     ]
    }
   ],
   "source": [
    "y_pred = rf_regressor.predict(X_test)\n",
    "\n",
    "import pandas as pd\n",
    "df_predictions = pd.DataFrame({'Real Values': y_test, 'Predicted Values': y_pred})\n",
    "print(df_predictions.head())"
   ]
  },
  {
   "cell_type": "code",
   "execution_count": 33,
   "id": "e228a763",
   "metadata": {},
   "outputs": [],
   "source": [
    "df_predictions['Percentage Difference'] = abs((df_predictions['Real Values'] - df_predictions['Predicted Values']) / df_predictions['Real Values']) * 100\n"
   ]
  },
  {
   "cell_type": "code",
   "execution_count": 34,
   "id": "4654b03d",
   "metadata": {},
   "outputs": [
    {
     "data": {
      "text/html": [
       "<div>\n",
       "<style scoped>\n",
       "    .dataframe tbody tr th:only-of-type {\n",
       "        vertical-align: middle;\n",
       "    }\n",
       "\n",
       "    .dataframe tbody tr th {\n",
       "        vertical-align: top;\n",
       "    }\n",
       "\n",
       "    .dataframe thead th {\n",
       "        text-align: right;\n",
       "    }\n",
       "</style>\n",
       "<table border=\"1\" class=\"dataframe\">\n",
       "  <thead>\n",
       "    <tr style=\"text-align: right;\">\n",
       "      <th></th>\n",
       "      <th>Real Values</th>\n",
       "      <th>Predicted Values</th>\n",
       "      <th>Accuracy</th>\n",
       "    </tr>\n",
       "  </thead>\n",
       "  <tbody>\n",
       "    <tr>\n",
       "      <th>8</th>\n",
       "      <td>43.499576</td>\n",
       "      <td>44.387649</td>\n",
       "      <td>97.958434</td>\n",
       "    </tr>\n",
       "    <tr>\n",
       "      <th>16</th>\n",
       "      <td>46.009959</td>\n",
       "      <td>45.217123</td>\n",
       "      <td>98.276815</td>\n",
       "    </tr>\n",
       "    <tr>\n",
       "      <th>0</th>\n",
       "      <td>46.795370</td>\n",
       "      <td>45.127492</td>\n",
       "      <td>96.435806</td>\n",
       "    </tr>\n",
       "    <tr>\n",
       "      <th>23</th>\n",
       "      <td>47.206660</td>\n",
       "      <td>46.471084</td>\n",
       "      <td>98.441796</td>\n",
       "    </tr>\n",
       "    <tr>\n",
       "      <th>11</th>\n",
       "      <td>42.505567</td>\n",
       "      <td>43.875691</td>\n",
       "      <td>96.776600</td>\n",
       "    </tr>\n",
       "    <tr>\n",
       "      <th>9</th>\n",
       "      <td>43.968611</td>\n",
       "      <td>44.455488</td>\n",
       "      <td>98.892671</td>\n",
       "    </tr>\n",
       "    <tr>\n",
       "      <th>13</th>\n",
       "      <td>44.585304</td>\n",
       "      <td>46.429443</td>\n",
       "      <td>95.863796</td>\n",
       "    </tr>\n",
       "  </tbody>\n",
       "</table>\n",
       "</div>"
      ],
      "text/plain": [
       "    Real Values  Predicted Values   Accuracy\n",
       "8     43.499576         44.387649  97.958434\n",
       "16    46.009959         45.217123  98.276815\n",
       "0     46.795370         45.127492  96.435806\n",
       "23    47.206660         46.471084  98.441796\n",
       "11    42.505567         43.875691  96.776600\n",
       "9     43.968611         44.455488  98.892671\n",
       "13    44.585304         46.429443  95.863796"
      ]
     },
     "execution_count": 34,
     "metadata": {},
     "output_type": "execute_result"
    }
   ],
   "source": [
    "df_predictions['Accuracy'] = 100 - df_predictions['Percentage Difference']\n",
    "df_accuracy = df_predictions.drop('Percentage Difference', axis = 1)\n",
    "df_accuracy\n"
   ]
  },
  {
   "cell_type": "code",
   "execution_count": 35,
   "id": "ce99ed60",
   "metadata": {},
   "outputs": [
    {
     "name": "stdout",
     "output_type": "stream",
     "text": [
      "Genauigkeit des Modells auf die Testdaten beträgt 97.52 %\n"
     ]
    }
   ],
   "source": [
    "df_mean_accuracy= df_accuracy.drop(['Real Values','Predicted Values'], axis=1)\n",
    "df_mean_accuracy=df_mean_accuracy.mean()\n",
    "print('Genauigkeit des Modells auf die Testdaten beträgt',\"{:.2f}\".format(df_mean_accuracy['Accuracy']),'%')"
   ]
  },
  {
   "cell_type": "code",
   "execution_count": 210,
   "id": "09091641",
   "metadata": {},
   "outputs": [
    {
     "name": "stdout",
     "output_type": "stream",
     "text": [
      "Der vorhergesagte Wert liegt mit einer Genauigkeit von 97.61 % bei 45.36 MPa\n"
     ]
    }
   ],
   "source": [
    "#Vorhersage treffen\n",
    "\n",
    "Schichtdicke = 0.2\n",
    "Drucktemperatur = 210\n",
    "Druckgeschwindigkeit = 60\n",
    "Fülldichte = 50\n",
    "\n",
    "x1= Schichtdicke\n",
    "x2= Drucktemperatur\n",
    "x3= Druckgeschwindigkeit\n",
    "x4= Fülldichte\n",
    "\n",
    "eingangsdaten= [[x1, x2, x3, x4]]\n",
    "\n",
    "vorhersagen = rf_regressor.predict(eingangsdaten)\n",
    "\n",
    "print('Der vorhergesagte Wert liegt mit einer Genauigkeit von',\"{:.2f}\".format(df_mean_accuracy['Accuracy']),'% bei',\"{:.2f}\".format(vorhersagen[0]),\"MPa\")"
   ]
  },
  {
   "cell_type": "code",
   "execution_count": 36,
   "id": "097cb876",
   "metadata": {},
   "outputs": [
    {
     "data": {
      "text/plain": [
       "['RFR_Zug T.pkl']"
      ]
     },
     "execution_count": 36,
     "metadata": {},
     "output_type": "execute_result"
    }
   ],
   "source": [
    "joblib.dump(rf_regressor, 'RFR_Zug T.pkl')"
   ]
  },
  {
   "cell_type": "code",
   "execution_count": null,
   "id": "3f7f7cbe",
   "metadata": {},
   "outputs": [],
   "source": []
  }
 ],
 "metadata": {
  "kernelspec": {
   "display_name": "Python 3 (ipykernel)",
   "language": "python",
   "name": "python3"
  },
  "language_info": {
   "codemirror_mode": {
    "name": "ipython",
    "version": 3
   },
   "file_extension": ".py",
   "mimetype": "text/x-python",
   "name": "python",
   "nbconvert_exporter": "python",
   "pygments_lexer": "ipython3",
   "version": "3.8.18"
  }
 },
 "nbformat": 4,
 "nbformat_minor": 5
}
