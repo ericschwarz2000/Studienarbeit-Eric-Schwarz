{
 "cells": [
  {
   "cell_type": "code",
   "execution_count": 5,
   "id": "2b19e7fc",
   "metadata": {},
   "outputs": [],
   "source": [
    "import pandas as pd\n",
    "import numpy as np\n",
    "import pandas as pd\n",
    "from sklearn.model_selection import cross_val_score\n",
    "from collections import Counter\n",
    "from sklearn.ensemble import RandomForestRegressor\n",
    "from sklearn.datasets import make_regression\n",
    "from sklearn.ensemble import RandomForestRegressor\n",
    "import joblib\n"
   ]
  },
  {
   "cell_type": "code",
   "execution_count": 6,
   "id": "47c65db5",
   "metadata": {},
   "outputs": [],
   "source": [
    "ss = joblib.load('RFR_Zug T.pkl')\n",
    "aa = joblib.load('RFR_Zug V.pkl')\n",
    "DD = joblib.load('RFR_Dichte.pkl')\n",
    "AA = joblib.load('RFR_Abweichung.pkl')\n"
   ]
  },
  {
   "cell_type": "code",
   "execution_count": 7,
   "id": "42c2f03e",
   "metadata": {},
   "outputs": [],
   "source": [
    "#Hier erfolgt die Eingabe der Druckparameter\n",
    "\n",
    "Schichtdicke = 0.2          # Angabe in mm\n",
    "Drucktemperatur = 200       # Angabe in °C\n",
    "Druckgeschwindigkeit = 100  # Angabe in mm/s\n",
    "Fülldichte= 100              # Angabe in %"
   ]
  },
  {
   "cell_type": "code",
   "execution_count": 8,
   "id": "c2b16e7f",
   "metadata": {},
   "outputs": [
    {
     "name": "stdout",
     "output_type": "stream",
     "text": [
      "[45.68157724]\n",
      "[45.50106419]\n",
      "[1.22931318]\n",
      "[-0.26992143]\n"
     ]
    }
   ],
   "source": [
    "neue_eingabewerte = { \n",
    "    0: [Schichtdicke],\n",
    "    1: [Drucktemperatur],\n",
    "    2: [Druckgeschwindigkeit],\n",
    "    3: [Fülldichte]\n",
    "}\n",
    "df_vorhersage_v = pd.DataFrame(neue_eingabewerte)\n",
    "\n",
    "predictions_v = ss.predict(df_vorhersage_v)\n",
    "\n",
    "df_vorhersage_t = pd.DataFrame(neue_eingabewerte)\n",
    "\n",
    "predictions_t = aa.predict(df_vorhersage_t)\n",
    "\n",
    "df_vorhersage_D = pd.DataFrame(neue_eingabewerte)\n",
    "\n",
    "predictions_D = DD.predict(df_vorhersage_D)\n",
    "\n",
    "df_vorhersage_A = pd.DataFrame(neue_eingabewerte)\n",
    "\n",
    "predictions_A = AA.predict(df_vorhersage_A)\n",
    "\n",
    "print(predictions_v)\n",
    "print(predictions_t)\n",
    "print(predictions_D)\n",
    "print(predictions_A)"
   ]
  },
  {
   "cell_type": "code",
   "execution_count": 9,
   "id": "4fff6132",
   "metadata": {},
   "outputs": [
    {
     "name": "stdout",
     "output_type": "stream",
     "text": [
      "Die Zugfestigkeit liegt voraussichtlich bei: 45.68 MPa.\n",
      "Dieser Wert für die Zugfestigkeit ist nicht optimal.\n",
      "Um die Zugfestigkeit zu verbessern, sollte eine geringere Schichtdicke \n",
      "oder eine geringere Temperatur gewählt werden.\n",
      "\n",
      "Die Zugfestigkeit liegt voraussichtlich bei: 45.50  MPa.\n",
      "Dieser Wert für die Zugfestigkeit ist nicht optimal.\n",
      "Um die Zugfestigkeit zu verbessern, sollte eine geringere Schichtdicke \n",
      "oder eine geringere Temperatur gewählt werden.\n",
      "\n",
      "Die Dichte liegt voraussichtlich bei: 1.2293 g/cm³. Dieser Wert ist ausreichend.\n",
      "\n",
      "Die Geometrische Abweichung liegt voraussichtlich bei: -0.270 mm.\n",
      "Dieser Wert für die Geometrische Abweichung ist nicht optimal.\n",
      "Um die Geometrische Abweichung zu verbessern, sollte eine größere Schichtdicke \n",
      "oder eine größere Fülldichte gewählt werden.\n"
     ]
    }
   ],
   "source": [
    "#Vorhersage und Berwertung Zugfestigkeit V\n",
    "if predictions_v[0] < 46.6:\n",
    "    print(\"Die Zugfestigkeit liegt voraussichtlich bei: {:.2f}\".format(predictions_v[0]),\"MPa.\\nDieser Wert für die Zugfestigkeit ist nicht optimal.\\nUm die Zugfestigkeit zu verbessern, sollte eine geringere Schichtdicke \\noder eine geringere Temperatur gewählt werden.\", end='\\n\\n')\n",
    "   \n",
    "else: \n",
    "    print(\"Die Zugfestigkeit liegt voraussichtlich bei: {:.2f}\".format(predictions_v[0]), \"MPa. Dieser Wert ist ausreichend.\", end='\\n\\n')\n",
    "    \n",
    "#Vorhersage und Bewertung Zugfestigkeit T\n",
    "if predictions_t[0] < 45.6:\n",
    "    print(\"Die Zugfestigkeit liegt voraussichtlich bei: {:.2f}\".format(predictions_t[0]),\" MPa.\\nDieser Wert für die Zugfestigkeit ist nicht optimal.\\nUm die Zugfestigkeit zu verbessern, sollte eine geringere Schichtdicke \\noder eine geringere Temperatur gewählt werden.\", end='\\n\\n')\n",
    "   \n",
    "else: \n",
    "    print(\"Die Zugfestigkeit liegt voraussichtlich bei: {:.2f}\".format(predictions_t[0]), \"MPa. Dieser Wert ist ausreichend.\", end='\\n\\n')\n",
    "\n",
    "#Vohersage und Bewertung Dichte\n",
    "if predictions_D[0] < 1.229:\n",
    "    print(\"Die Dichte liegt voraussichtlich bei: {:.4f}\".format(predictions_D[0]),\"g/cm³.\\nDieser Wert für die Dichte ist nicht optimal.\\nUm die Dichte zu verbessern, sollte eine größere Schichtdicke \\noder eine geringere Druckgeschwindigkeit gewählt werden.\", end='\\n\\n')\n",
    "   \n",
    "else: \n",
    "    print(\"Die Dichte liegt voraussichtlich bei: {:.4f}\".format(predictions_D[0]), \"g/cm³. Dieser Wert ist ausreichend.\", end='\\n\\n')\n",
    "\n",
    "#Vorhersage und Bewertung Geometrische Abweichung\n",
    "if predictions_A[0] <= -0.22:\n",
    "    print(\"Die Geometrische Abweichung liegt voraussichtlich bei: {:.3f}\".format(predictions_A[0]),\"mm.\\nDieser Wert für die Geometrische Abweichung ist nicht optimal.\\nUm die Geometrische Abweichung zu verbessern, sollte eine größere Schichtdicke \\noder eine größere Fülldichte gewählt werden.\")\n",
    "   \n",
    "else: \n",
    "    print(\"Die Geometrische Abweichung liegt voraussichtlich bei: {:.3f}\".format(predictions_A[0]), \"mm. Dieser Wert ist ausreichend.\")\n"
   ]
  },
  {
   "cell_type": "code",
   "execution_count": null,
   "id": "37b7daf9",
   "metadata": {},
   "outputs": [],
   "source": []
  },
  {
   "cell_type": "code",
   "execution_count": null,
   "id": "c1172a8c",
   "metadata": {},
   "outputs": [],
   "source": []
  },
  {
   "cell_type": "code",
   "execution_count": null,
   "id": "9bedb3ee",
   "metadata": {},
   "outputs": [],
   "source": []
  }
 ],
 "metadata": {
  "kernelspec": {
   "display_name": "Python 3 (ipykernel)",
   "language": "python",
   "name": "python3"
  },
  "language_info": {
   "codemirror_mode": {
    "name": "ipython",
    "version": 3
   },
   "file_extension": ".py",
   "mimetype": "text/x-python",
   "name": "python",
   "nbconvert_exporter": "python",
   "pygments_lexer": "ipython3",
   "version": "3.8.18"
  }
 },
 "nbformat": 4,
 "nbformat_minor": 5
}
