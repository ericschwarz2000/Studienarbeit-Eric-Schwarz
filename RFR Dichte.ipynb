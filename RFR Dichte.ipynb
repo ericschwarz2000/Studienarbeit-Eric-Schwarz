{
 "cells": [
  {
   "cell_type": "code",
   "execution_count": 2,
   "id": "e6d4e336",
   "metadata": {},
   "outputs": [],
   "source": [
    "import numpy as np\n",
    "import pandas as pd\n",
    "import matplotlib.pyplot as plt\n",
    "import seaborn as sns\n",
    "from sklearn.metrics import mean_squared_error\n",
    "from sklearn.model_selection import cross_val_score\n",
    "from collections import Counter\n",
    "from sklearn.ensemble import RandomForestRegressor\n",
    "from sklearn.datasets import make_regression\n",
    "from sklearn.model_selection import train_test_split\n",
    "from sklearn.metrics import mean_squared_error, mean_absolute_error\n",
    "import joblib"
   ]
  },
  {
   "cell_type": "code",
   "execution_count": 3,
   "id": "681fe396",
   "metadata": {},
   "outputs": [
    {
     "data": {
      "text/html": [
       "<div>\n",
       "<style scoped>\n",
       "    .dataframe tbody tr th:only-of-type {\n",
       "        vertical-align: middle;\n",
       "    }\n",
       "\n",
       "    .dataframe tbody tr th {\n",
       "        vertical-align: top;\n",
       "    }\n",
       "\n",
       "    .dataframe thead th {\n",
       "        text-align: right;\n",
       "    }\n",
       "</style>\n",
       "<table border=\"1\" class=\"dataframe\">\n",
       "  <thead>\n",
       "    <tr style=\"text-align: right;\">\n",
       "      <th></th>\n",
       "      <th>Dichte</th>\n",
       "      <th>Schichtdicke</th>\n",
       "      <th>Temperatur</th>\n",
       "      <th>Geschwindigkeit</th>\n",
       "      <th>Fülldichte</th>\n",
       "    </tr>\n",
       "  </thead>\n",
       "  <tbody>\n",
       "    <tr>\n",
       "      <th>0</th>\n",
       "      <td>1.232000</td>\n",
       "      <td>0.2</td>\n",
       "      <td>210</td>\n",
       "      <td>60</td>\n",
       "      <td>25</td>\n",
       "    </tr>\n",
       "    <tr>\n",
       "      <th>1</th>\n",
       "      <td>1.228433</td>\n",
       "      <td>0.2</td>\n",
       "      <td>210</td>\n",
       "      <td>60</td>\n",
       "      <td>50</td>\n",
       "    </tr>\n",
       "    <tr>\n",
       "      <th>2</th>\n",
       "      <td>1.230233</td>\n",
       "      <td>0.2</td>\n",
       "      <td>210</td>\n",
       "      <td>60</td>\n",
       "      <td>75</td>\n",
       "    </tr>\n",
       "    <tr>\n",
       "      <th>3</th>\n",
       "      <td>1.227367</td>\n",
       "      <td>0.2</td>\n",
       "      <td>210</td>\n",
       "      <td>60</td>\n",
       "      <td>25</td>\n",
       "    </tr>\n",
       "    <tr>\n",
       "      <th>4</th>\n",
       "      <td>1.227667</td>\n",
       "      <td>0.2</td>\n",
       "      <td>210</td>\n",
       "      <td>60</td>\n",
       "      <td>100</td>\n",
       "    </tr>\n",
       "  </tbody>\n",
       "</table>\n",
       "</div>"
      ],
      "text/plain": [
       "     Dichte  Schichtdicke  Temperatur  Geschwindigkeit  Fülldichte\n",
       "0  1.232000           0.2         210               60          25\n",
       "1  1.228433           0.2         210               60          50\n",
       "2  1.230233           0.2         210               60          75\n",
       "3  1.227367           0.2         210               60          25\n",
       "4  1.227667           0.2         210               60         100"
      ]
     },
     "execution_count": 3,
     "metadata": {},
     "output_type": "execute_result"
    }
   ],
   "source": [
    "dataset = pd.read_excel(\"all data 1.xlsx\",sheet_name=\"Dichte\", usecols=[\"Schichtdicke\",\"Temperatur\",\"Geschwindigkeit\",\"Fülldichte\",\"Dichte\"])\n",
    "dataset.head()"
   ]
  },
  {
   "cell_type": "code",
   "execution_count": 4,
   "id": "4eddcd1a",
   "metadata": {},
   "outputs": [
    {
     "data": {
      "text/html": [
       "<div>\n",
       "<style scoped>\n",
       "    .dataframe tbody tr th:only-of-type {\n",
       "        vertical-align: middle;\n",
       "    }\n",
       "\n",
       "    .dataframe tbody tr th {\n",
       "        vertical-align: top;\n",
       "    }\n",
       "\n",
       "    .dataframe thead th {\n",
       "        text-align: right;\n",
       "    }\n",
       "</style>\n",
       "<table border=\"1\" class=\"dataframe\">\n",
       "  <thead>\n",
       "    <tr style=\"text-align: right;\">\n",
       "      <th></th>\n",
       "      <th>Dichte</th>\n",
       "      <th>Schichtdicke</th>\n",
       "      <th>Temperatur</th>\n",
       "      <th>Geschwindigkeit</th>\n",
       "      <th>Fülldichte</th>\n",
       "    </tr>\n",
       "  </thead>\n",
       "  <tbody>\n",
       "    <tr>\n",
       "      <th>count</th>\n",
       "      <td>27.000000</td>\n",
       "      <td>27.00000</td>\n",
       "      <td>27.000000</td>\n",
       "      <td>27.000000</td>\n",
       "      <td>27.000000</td>\n",
       "    </tr>\n",
       "    <tr>\n",
       "      <th>mean</th>\n",
       "      <td>1.228554</td>\n",
       "      <td>0.20000</td>\n",
       "      <td>209.259259</td>\n",
       "      <td>83.703704</td>\n",
       "      <td>41.666667</td>\n",
       "    </tr>\n",
       "    <tr>\n",
       "      <th>std</th>\n",
       "      <td>0.001850</td>\n",
       "      <td>0.05547</td>\n",
       "      <td>8.738036</td>\n",
       "      <td>36.810131</td>\n",
       "      <td>26.854308</td>\n",
       "    </tr>\n",
       "    <tr>\n",
       "      <th>min</th>\n",
       "      <td>1.224900</td>\n",
       "      <td>0.10000</td>\n",
       "      <td>190.000000</td>\n",
       "      <td>60.000000</td>\n",
       "      <td>25.000000</td>\n",
       "    </tr>\n",
       "    <tr>\n",
       "      <th>25%</th>\n",
       "      <td>1.227417</td>\n",
       "      <td>0.20000</td>\n",
       "      <td>210.000000</td>\n",
       "      <td>60.000000</td>\n",
       "      <td>25.000000</td>\n",
       "    </tr>\n",
       "    <tr>\n",
       "      <th>50%</th>\n",
       "      <td>1.228167</td>\n",
       "      <td>0.20000</td>\n",
       "      <td>210.000000</td>\n",
       "      <td>60.000000</td>\n",
       "      <td>25.000000</td>\n",
       "    </tr>\n",
       "    <tr>\n",
       "      <th>75%</th>\n",
       "      <td>1.229750</td>\n",
       "      <td>0.20000</td>\n",
       "      <td>210.000000</td>\n",
       "      <td>110.000000</td>\n",
       "      <td>50.000000</td>\n",
       "    </tr>\n",
       "    <tr>\n",
       "      <th>max</th>\n",
       "      <td>1.232900</td>\n",
       "      <td>0.30000</td>\n",
       "      <td>230.000000</td>\n",
       "      <td>180.000000</td>\n",
       "      <td>100.000000</td>\n",
       "    </tr>\n",
       "  </tbody>\n",
       "</table>\n",
       "</div>"
      ],
      "text/plain": [
       "          Dichte  Schichtdicke  Temperatur  Geschwindigkeit  Fülldichte\n",
       "count  27.000000      27.00000   27.000000        27.000000   27.000000\n",
       "mean    1.228554       0.20000  209.259259        83.703704   41.666667\n",
       "std     0.001850       0.05547    8.738036        36.810131   26.854308\n",
       "min     1.224900       0.10000  190.000000        60.000000   25.000000\n",
       "25%     1.227417       0.20000  210.000000        60.000000   25.000000\n",
       "50%     1.228167       0.20000  210.000000        60.000000   25.000000\n",
       "75%     1.229750       0.20000  210.000000       110.000000   50.000000\n",
       "max     1.232900       0.30000  230.000000       180.000000  100.000000"
      ]
     },
     "execution_count": 4,
     "metadata": {},
     "output_type": "execute_result"
    }
   ],
   "source": [
    "dataset.describe()"
   ]
  },
  {
   "cell_type": "code",
   "execution_count": 5,
   "id": "657f4a10",
   "metadata": {},
   "outputs": [
    {
     "data": {
      "text/html": [
       "<div>\n",
       "<style scoped>\n",
       "    .dataframe tbody tr th:only-of-type {\n",
       "        vertical-align: middle;\n",
       "    }\n",
       "\n",
       "    .dataframe tbody tr th {\n",
       "        vertical-align: top;\n",
       "    }\n",
       "\n",
       "    .dataframe thead th {\n",
       "        text-align: right;\n",
       "    }\n",
       "</style>\n",
       "<table border=\"1\" class=\"dataframe\">\n",
       "  <thead>\n",
       "    <tr style=\"text-align: right;\">\n",
       "      <th></th>\n",
       "      <th>Dichte</th>\n",
       "      <th>Schichtdicke</th>\n",
       "      <th>Temperatur</th>\n",
       "      <th>Geschwindigkeit</th>\n",
       "      <th>Fülldichte</th>\n",
       "    </tr>\n",
       "  </thead>\n",
       "  <tbody>\n",
       "    <tr>\n",
       "      <th>0</th>\n",
       "      <td>1.232000</td>\n",
       "      <td>0.2</td>\n",
       "      <td>210</td>\n",
       "      <td>60</td>\n",
       "      <td>25</td>\n",
       "    </tr>\n",
       "    <tr>\n",
       "      <th>1</th>\n",
       "      <td>1.228433</td>\n",
       "      <td>0.2</td>\n",
       "      <td>210</td>\n",
       "      <td>60</td>\n",
       "      <td>50</td>\n",
       "    </tr>\n",
       "    <tr>\n",
       "      <th>2</th>\n",
       "      <td>1.230233</td>\n",
       "      <td>0.2</td>\n",
       "      <td>210</td>\n",
       "      <td>60</td>\n",
       "      <td>75</td>\n",
       "    </tr>\n",
       "    <tr>\n",
       "      <th>3</th>\n",
       "      <td>1.227367</td>\n",
       "      <td>0.2</td>\n",
       "      <td>210</td>\n",
       "      <td>60</td>\n",
       "      <td>25</td>\n",
       "    </tr>\n",
       "    <tr>\n",
       "      <th>4</th>\n",
       "      <td>1.227667</td>\n",
       "      <td>0.2</td>\n",
       "      <td>210</td>\n",
       "      <td>60</td>\n",
       "      <td>100</td>\n",
       "    </tr>\n",
       "  </tbody>\n",
       "</table>\n",
       "</div>"
      ],
      "text/plain": [
       "     Dichte  Schichtdicke  Temperatur  Geschwindigkeit  Fülldichte\n",
       "0  1.232000           0.2         210               60          25\n",
       "1  1.228433           0.2         210               60          50\n",
       "2  1.230233           0.2         210               60          75\n",
       "3  1.227367           0.2         210               60          25\n",
       "4  1.227667           0.2         210               60         100"
      ]
     },
     "execution_count": 5,
     "metadata": {},
     "output_type": "execute_result"
    }
   ],
   "source": [
    "dataset.head()"
   ]
  },
  {
   "cell_type": "code",
   "execution_count": 6,
   "id": "277ac40e",
   "metadata": {},
   "outputs": [
    {
     "name": "stdout",
     "output_type": "stream",
     "text": [
      "0     1.232000\n",
      "1     1.228433\n",
      "2     1.230233\n",
      "3     1.227367\n",
      "4     1.227667\n",
      "5     1.227367\n",
      "6     1.227500\n",
      "7     1.226733\n",
      "8     1.227433\n",
      "9     1.230000\n",
      "10    1.230167\n",
      "11    1.231433\n",
      "12    1.228767\n",
      "13    1.227867\n",
      "14    1.232900\n",
      "15    1.228200\n",
      "16    1.231000\n",
      "17    1.229033\n",
      "18    1.227700\n",
      "19    1.228400\n",
      "20    1.229500\n",
      "21    1.227600\n",
      "22    1.228167\n",
      "23    1.225800\n",
      "24    1.227400\n",
      "25    1.224900\n",
      "26    1.227400\n",
      "Name: Dichte, dtype: float64\n"
     ]
    }
   ],
   "source": [
    "X = dataset.drop('Dichte', axis = 1).values\n",
    "y = dataset['Dichte']\n",
    "print(y)"
   ]
  },
  {
   "cell_type": "code",
   "execution_count": 7,
   "id": "f3d9cca5",
   "metadata": {},
   "outputs": [],
   "source": [
    "X_train, X_test, y_train, y_test = train_test_split(X, y, test_size=0.25, random_state=42)\n"
   ]
  },
  {
   "cell_type": "code",
   "execution_count": 8,
   "id": "315a60a5",
   "metadata": {},
   "outputs": [],
   "source": [
    "rf_regressor = RandomForestRegressor(n_estimators=1500,max_depth=15, bootstrap=True, random_state=42)"
   ]
  },
  {
   "cell_type": "code",
   "execution_count": 9,
   "id": "71244231",
   "metadata": {},
   "outputs": [
    {
     "data": {
      "text/html": [
       "<style>#sk-container-id-1 {color: black;}#sk-container-id-1 pre{padding: 0;}#sk-container-id-1 div.sk-toggleable {background-color: white;}#sk-container-id-1 label.sk-toggleable__label {cursor: pointer;display: block;width: 100%;margin-bottom: 0;padding: 0.3em;box-sizing: border-box;text-align: center;}#sk-container-id-1 label.sk-toggleable__label-arrow:before {content: \"▸\";float: left;margin-right: 0.25em;color: #696969;}#sk-container-id-1 label.sk-toggleable__label-arrow:hover:before {color: black;}#sk-container-id-1 div.sk-estimator:hover label.sk-toggleable__label-arrow:before {color: black;}#sk-container-id-1 div.sk-toggleable__content {max-height: 0;max-width: 0;overflow: hidden;text-align: left;background-color: #f0f8ff;}#sk-container-id-1 div.sk-toggleable__content pre {margin: 0.2em;color: black;border-radius: 0.25em;background-color: #f0f8ff;}#sk-container-id-1 input.sk-toggleable__control:checked~div.sk-toggleable__content {max-height: 200px;max-width: 100%;overflow: auto;}#sk-container-id-1 input.sk-toggleable__control:checked~label.sk-toggleable__label-arrow:before {content: \"▾\";}#sk-container-id-1 div.sk-estimator input.sk-toggleable__control:checked~label.sk-toggleable__label {background-color: #d4ebff;}#sk-container-id-1 div.sk-label input.sk-toggleable__control:checked~label.sk-toggleable__label {background-color: #d4ebff;}#sk-container-id-1 input.sk-hidden--visually {border: 0;clip: rect(1px 1px 1px 1px);clip: rect(1px, 1px, 1px, 1px);height: 1px;margin: -1px;overflow: hidden;padding: 0;position: absolute;width: 1px;}#sk-container-id-1 div.sk-estimator {font-family: monospace;background-color: #f0f8ff;border: 1px dotted black;border-radius: 0.25em;box-sizing: border-box;margin-bottom: 0.5em;}#sk-container-id-1 div.sk-estimator:hover {background-color: #d4ebff;}#sk-container-id-1 div.sk-parallel-item::after {content: \"\";width: 100%;border-bottom: 1px solid gray;flex-grow: 1;}#sk-container-id-1 div.sk-label:hover label.sk-toggleable__label {background-color: #d4ebff;}#sk-container-id-1 div.sk-serial::before {content: \"\";position: absolute;border-left: 1px solid gray;box-sizing: border-box;top: 0;bottom: 0;left: 50%;z-index: 0;}#sk-container-id-1 div.sk-serial {display: flex;flex-direction: column;align-items: center;background-color: white;padding-right: 0.2em;padding-left: 0.2em;position: relative;}#sk-container-id-1 div.sk-item {position: relative;z-index: 1;}#sk-container-id-1 div.sk-parallel {display: flex;align-items: stretch;justify-content: center;background-color: white;position: relative;}#sk-container-id-1 div.sk-item::before, #sk-container-id-1 div.sk-parallel-item::before {content: \"\";position: absolute;border-left: 1px solid gray;box-sizing: border-box;top: 0;bottom: 0;left: 50%;z-index: -1;}#sk-container-id-1 div.sk-parallel-item {display: flex;flex-direction: column;z-index: 1;position: relative;background-color: white;}#sk-container-id-1 div.sk-parallel-item:first-child::after {align-self: flex-end;width: 50%;}#sk-container-id-1 div.sk-parallel-item:last-child::after {align-self: flex-start;width: 50%;}#sk-container-id-1 div.sk-parallel-item:only-child::after {width: 0;}#sk-container-id-1 div.sk-dashed-wrapped {border: 1px dashed gray;margin: 0 0.4em 0.5em 0.4em;box-sizing: border-box;padding-bottom: 0.4em;background-color: white;}#sk-container-id-1 div.sk-label label {font-family: monospace;font-weight: bold;display: inline-block;line-height: 1.2em;}#sk-container-id-1 div.sk-label-container {text-align: center;}#sk-container-id-1 div.sk-container {/* jupyter's `normalize.less` sets `[hidden] { display: none; }` but bootstrap.min.css set `[hidden] { display: none !important; }` so we also need the `!important` here to be able to override the default hidden behavior on the sphinx rendered scikit-learn.org. See: https://github.com/scikit-learn/scikit-learn/issues/21755 */display: inline-block !important;position: relative;}#sk-container-id-1 div.sk-text-repr-fallback {display: none;}</style><div id=\"sk-container-id-1\" class=\"sk-top-container\"><div class=\"sk-text-repr-fallback\"><pre>RandomForestRegressor(max_depth=15, n_estimators=1500, random_state=42)</pre><b>In a Jupyter environment, please rerun this cell to show the HTML representation or trust the notebook. <br />On GitHub, the HTML representation is unable to render, please try loading this page with nbviewer.org.</b></div><div class=\"sk-container\" hidden><div class=\"sk-item\"><div class=\"sk-estimator sk-toggleable\"><input class=\"sk-toggleable__control sk-hidden--visually\" id=\"sk-estimator-id-1\" type=\"checkbox\" checked><label for=\"sk-estimator-id-1\" class=\"sk-toggleable__label sk-toggleable__label-arrow\">RandomForestRegressor</label><div class=\"sk-toggleable__content\"><pre>RandomForestRegressor(max_depth=15, n_estimators=1500, random_state=42)</pre></div></div></div></div></div>"
      ],
      "text/plain": [
       "RandomForestRegressor(max_depth=15, n_estimators=1500, random_state=42)"
      ]
     },
     "execution_count": 9,
     "metadata": {},
     "output_type": "execute_result"
    }
   ],
   "source": [
    "rf_regressor.fit(X_train, y_train)"
   ]
  },
  {
   "cell_type": "code",
   "execution_count": 10,
   "id": "6760b180",
   "metadata": {},
   "outputs": [],
   "source": [
    "y_pred = rf_regressor.predict(X_test)"
   ]
  },
  {
   "cell_type": "code",
   "execution_count": 12,
   "id": "72731242",
   "metadata": {},
   "outputs": [],
   "source": [
    "mae = mean_absolute_error(y_test, y_pred)\n",
    "mse = mean_squared_error(y_test, y_pred)\n",
    "y_pred_rf_train = rf_regressor.predict(X_train)\n",
    "y_pred_rf_test = rf_regressor.predict(X_test)\n",
    "rmse_rf = (np.sqrt(mean_squared_error(y_test, y_pred_rf_test)))"
   ]
  },
  {
   "cell_type": "code",
   "execution_count": 13,
   "id": "63aadf69",
   "metadata": {},
   "outputs": [
    {
     "name": "stdout",
     "output_type": "stream",
     "text": [
      "Mean Squared Error (MSE): 6.608497225845658e-06\n",
      "Mean absolue Error(MAE): 0.0020702698412557374\n",
      "RMSE:  0.0025706997541225345\n"
     ]
    }
   ],
   "source": [
    "print(\"Mean Squared Error (MSE):\", mse)\n",
    "print(\"Mean absolue Error(MAE):\", mae)\n",
    "print(\"RMSE: \", rmse_rf)"
   ]
  },
  {
   "cell_type": "code",
   "execution_count": 138,
   "id": "96a2d730",
   "metadata": {},
   "outputs": [
    {
     "name": "stdout",
     "output_type": "stream",
     "text": [
      "[45.12749249]\n"
     ]
    }
   ],
   "source": [
    "#Vorhersage treffen\n",
    "\n",
    "Schichtdicke = 0.2\n",
    "Drucktemperatur = 210\n",
    "Druckgeschwindigkeit = 60\n",
    "Fülldichte = 50\n",
    "\n",
    "x1= Schichtdicke\n",
    "x2= Drucktemperatur\n",
    "x3= Druckgeschwindigkeit\n",
    "x4= Fülldichte\n",
    "\n",
    "eingangsdaten= [[x1, x2, x3, x4]]\n",
    "\n",
    "vorhersagen = rf_regressor.predict(eingangsdaten)\n",
    "\n",
    "print(vorhersagen)"
   ]
  },
  {
   "cell_type": "code",
   "execution_count": 13,
   "id": "660d3530",
   "metadata": {},
   "outputs": [
    {
     "name": "stdout",
     "output_type": "stream",
     "text": [
      "    Real Values  Predicted Values\n",
      "8      1.227433          1.227151\n",
      "13     1.227867          1.226305\n",
      "9      1.230000          1.229008\n",
      "21     1.227600          1.228985\n",
      "0      1.232000          1.227937\n"
     ]
    }
   ],
   "source": [
    "y_pred = rf_regressor.predict(X_test)\n",
    "\n",
    "import pandas as pd\n",
    "df_predictions = pd.DataFrame({'Real Values': y_test, 'Predicted Values': y_pred})\n",
    "print(df_predictions.head())"
   ]
  },
  {
   "cell_type": "code",
   "execution_count": 14,
   "id": "21141b43",
   "metadata": {},
   "outputs": [],
   "source": [
    "df_predictions['Percentage Difference'] = abs((df_predictions['Real Values'] - df_predictions['Predicted Values']) / df_predictions['Real Values']) * 100\n"
   ]
  },
  {
   "cell_type": "code",
   "execution_count": 15,
   "id": "4fcd38b4",
   "metadata": {},
   "outputs": [
    {
     "data": {
      "text/html": [
       "<div>\n",
       "<style scoped>\n",
       "    .dataframe tbody tr th:only-of-type {\n",
       "        vertical-align: middle;\n",
       "    }\n",
       "\n",
       "    .dataframe tbody tr th {\n",
       "        vertical-align: top;\n",
       "    }\n",
       "\n",
       "    .dataframe thead th {\n",
       "        text-align: right;\n",
       "    }\n",
       "</style>\n",
       "<table border=\"1\" class=\"dataframe\">\n",
       "  <thead>\n",
       "    <tr style=\"text-align: right;\">\n",
       "      <th></th>\n",
       "      <th>Real Values</th>\n",
       "      <th>Predicted Values</th>\n",
       "      <th>Accuracy</th>\n",
       "    </tr>\n",
       "  </thead>\n",
       "  <tbody>\n",
       "    <tr>\n",
       "      <th>8</th>\n",
       "      <td>1.227433</td>\n",
       "      <td>1.227151</td>\n",
       "      <td>99.976960</td>\n",
       "    </tr>\n",
       "    <tr>\n",
       "      <th>13</th>\n",
       "      <td>1.227867</td>\n",
       "      <td>1.226305</td>\n",
       "      <td>99.872822</td>\n",
       "    </tr>\n",
       "    <tr>\n",
       "      <th>9</th>\n",
       "      <td>1.230000</td>\n",
       "      <td>1.229008</td>\n",
       "      <td>99.919326</td>\n",
       "    </tr>\n",
       "    <tr>\n",
       "      <th>21</th>\n",
       "      <td>1.227600</td>\n",
       "      <td>1.228985</td>\n",
       "      <td>99.887167</td>\n",
       "    </tr>\n",
       "    <tr>\n",
       "      <th>0</th>\n",
       "      <td>1.232000</td>\n",
       "      <td>1.227937</td>\n",
       "      <td>99.670197</td>\n",
       "    </tr>\n",
       "    <tr>\n",
       "      <th>11</th>\n",
       "      <td>1.231433</td>\n",
       "      <td>1.229921</td>\n",
       "      <td>99.877216</td>\n",
       "    </tr>\n",
       "    <tr>\n",
       "      <th>16</th>\n",
       "      <td>1.231000</td>\n",
       "      <td>1.226305</td>\n",
       "      <td>99.618610</td>\n",
       "    </tr>\n",
       "  </tbody>\n",
       "</table>\n",
       "</div>"
      ],
      "text/plain": [
       "    Real Values  Predicted Values   Accuracy\n",
       "8      1.227433          1.227151  99.976960\n",
       "13     1.227867          1.226305  99.872822\n",
       "9      1.230000          1.229008  99.919326\n",
       "21     1.227600          1.228985  99.887167\n",
       "0      1.232000          1.227937  99.670197\n",
       "11     1.231433          1.229921  99.877216\n",
       "16     1.231000          1.226305  99.618610"
      ]
     },
     "execution_count": 15,
     "metadata": {},
     "output_type": "execute_result"
    }
   ],
   "source": [
    "df_predictions['Accuracy'] = 100 - df_predictions['Percentage Difference']\n",
    "df_accuracy = df_predictions.drop('Percentage Difference', axis = 1)\n",
    "df_accuracy\n"
   ]
  },
  {
   "cell_type": "code",
   "execution_count": 16,
   "id": "7652b63b",
   "metadata": {},
   "outputs": [
    {
     "name": "stdout",
     "output_type": "stream",
     "text": [
      "Genauigkeit des Modells auf die Testdaten: 99.83175689320076 %\n"
     ]
    }
   ],
   "source": [
    "df_mean_accuracy= df_accuracy.drop(['Real Values','Predicted Values'], axis=1)\n",
    "df_mean_accuracy=df_mean_accuracy.mean()\n",
    "print('Genauigkeit des Modells auf die Testdaten:',df_mean_accuracy['Accuracy'],'%')"
   ]
  },
  {
   "cell_type": "code",
   "execution_count": 21,
   "id": "89c1375b",
   "metadata": {},
   "outputs": [
    {
     "data": {
      "text/plain": [
       "['RFR_Dichte.pkl']"
      ]
     },
     "execution_count": 21,
     "metadata": {},
     "output_type": "execute_result"
    }
   ],
   "source": [
    "joblib.dump(rf_regressor, 'RFR_Dichte.pkl')"
   ]
  },
  {
   "cell_type": "code",
   "execution_count": null,
   "id": "830be0a3",
   "metadata": {},
   "outputs": [],
   "source": []
  }
 ],
 "metadata": {
  "kernelspec": {
   "display_name": "Python 3 (ipykernel)",
   "language": "python",
   "name": "python3"
  },
  "language_info": {
   "codemirror_mode": {
    "name": "ipython",
    "version": 3
   },
   "file_extension": ".py",
   "mimetype": "text/x-python",
   "name": "python",
   "nbconvert_exporter": "python",
   "pygments_lexer": "ipython3",
   "version": "3.8.18"
  }
 },
 "nbformat": 4,
 "nbformat_minor": 5
}
