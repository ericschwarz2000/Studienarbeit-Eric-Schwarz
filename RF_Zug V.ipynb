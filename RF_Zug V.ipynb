{
 "cells": [
  {
   "cell_type": "code",
   "execution_count": 18,
   "id": "e6d4e336",
   "metadata": {},
   "outputs": [],
   "source": [
    "import numpy as np\n",
    "import pandas as pd\n",
    "import matplotlib.pyplot as plt\n",
    "import seaborn as sns\n",
    "from sklearn.metrics import mean_squared_error\n",
    "from sklearn.model_selection import cross_val_score\n",
    "from collections import Counter\n",
    "from sklearn.ensemble import RandomForestRegressor\n",
    "from sklearn.datasets import make_regression\n",
    "from sklearn.model_selection import train_test_split\n",
    "from sklearn.metrics import mean_squared_error, mean_absolute_error\n",
    "import joblib"
   ]
  },
  {
   "cell_type": "code",
   "execution_count": 19,
   "id": "681fe396",
   "metadata": {},
   "outputs": [],
   "source": [
    "dataset = pd.read_excel(\"all data 1.xlsx\",sheet_name=\"Zugwerte V Mittel\", usecols=[\"Schichtdicke\",\"Temperatur\",\"Geschwindigkeit\",\n",
    "                                                                                   \"Fülldichte\",\"Zugfestigkeit\"])\n",
    "#dataset.head()"
   ]
  },
  {
   "cell_type": "code",
   "execution_count": 20,
   "id": "4eddcd1a",
   "metadata": {},
   "outputs": [
    {
     "data": {
      "text/html": [
       "<div>\n",
       "<style scoped>\n",
       "    .dataframe tbody tr th:only-of-type {\n",
       "        vertical-align: middle;\n",
       "    }\n",
       "\n",
       "    .dataframe tbody tr th {\n",
       "        vertical-align: top;\n",
       "    }\n",
       "\n",
       "    .dataframe thead th {\n",
       "        text-align: right;\n",
       "    }\n",
       "</style>\n",
       "<table border=\"1\" class=\"dataframe\">\n",
       "  <thead>\n",
       "    <tr style=\"text-align: right;\">\n",
       "      <th></th>\n",
       "      <th>Zugfestigkeit</th>\n",
       "      <th>Schichtdicke</th>\n",
       "      <th>Temperatur</th>\n",
       "      <th>Geschwindigkeit</th>\n",
       "      <th>Fülldichte</th>\n",
       "    </tr>\n",
       "  </thead>\n",
       "  <tbody>\n",
       "    <tr>\n",
       "      <th>count</th>\n",
       "      <td>22.000000</td>\n",
       "      <td>22.000000</td>\n",
       "      <td>22.000000</td>\n",
       "      <td>22.000000</td>\n",
       "      <td>22.000000</td>\n",
       "    </tr>\n",
       "    <tr>\n",
       "      <th>mean</th>\n",
       "      <td>44.693678</td>\n",
       "      <td>0.190909</td>\n",
       "      <td>209.545455</td>\n",
       "      <td>84.545455</td>\n",
       "      <td>39.772727</td>\n",
       "    </tr>\n",
       "    <tr>\n",
       "      <th>std</th>\n",
       "      <td>2.267844</td>\n",
       "      <td>0.052636</td>\n",
       "      <td>8.438727</td>\n",
       "      <td>38.013440</td>\n",
       "      <td>25.188682</td>\n",
       "    </tr>\n",
       "    <tr>\n",
       "      <th>min</th>\n",
       "      <td>40.486963</td>\n",
       "      <td>0.100000</td>\n",
       "      <td>190.000000</td>\n",
       "      <td>60.000000</td>\n",
       "      <td>25.000000</td>\n",
       "    </tr>\n",
       "    <tr>\n",
       "      <th>25%</th>\n",
       "      <td>43.256550</td>\n",
       "      <td>0.200000</td>\n",
       "      <td>210.000000</td>\n",
       "      <td>60.000000</td>\n",
       "      <td>25.000000</td>\n",
       "    </tr>\n",
       "    <tr>\n",
       "      <th>50%</th>\n",
       "      <td>43.997251</td>\n",
       "      <td>0.200000</td>\n",
       "      <td>210.000000</td>\n",
       "      <td>60.000000</td>\n",
       "      <td>25.000000</td>\n",
       "    </tr>\n",
       "    <tr>\n",
       "      <th>75%</th>\n",
       "      <td>45.611084</td>\n",
       "      <td>0.200000</td>\n",
       "      <td>210.000000</td>\n",
       "      <td>115.000000</td>\n",
       "      <td>50.000000</td>\n",
       "    </tr>\n",
       "    <tr>\n",
       "      <th>max</th>\n",
       "      <td>50.176943</td>\n",
       "      <td>0.300000</td>\n",
       "      <td>230.000000</td>\n",
       "      <td>180.000000</td>\n",
       "      <td>100.000000</td>\n",
       "    </tr>\n",
       "  </tbody>\n",
       "</table>\n",
       "</div>"
      ],
      "text/plain": [
       "       Zugfestigkeit  Schichtdicke  Temperatur  Geschwindigkeit  Fülldichte\n",
       "count      22.000000     22.000000   22.000000        22.000000   22.000000\n",
       "mean       44.693678      0.190909  209.545455        84.545455   39.772727\n",
       "std         2.267844      0.052636    8.438727        38.013440   25.188682\n",
       "min        40.486963      0.100000  190.000000        60.000000   25.000000\n",
       "25%        43.256550      0.200000  210.000000        60.000000   25.000000\n",
       "50%        43.997251      0.200000  210.000000        60.000000   25.000000\n",
       "75%        45.611084      0.200000  210.000000       115.000000   50.000000\n",
       "max        50.176943      0.300000  230.000000       180.000000  100.000000"
      ]
     },
     "execution_count": 20,
     "metadata": {},
     "output_type": "execute_result"
    }
   ],
   "source": [
    "dataset.describe()"
   ]
  },
  {
   "cell_type": "code",
   "execution_count": 21,
   "id": "277ac40e",
   "metadata": {},
   "outputs": [],
   "source": [
    "X = dataset.drop('Zugfestigkeit', axis = 1).values\n",
    "y = dataset['Zugfestigkeit']\n",
    "#print(y)"
   ]
  },
  {
   "cell_type": "code",
   "execution_count": 22,
   "id": "f3d9cca5",
   "metadata": {},
   "outputs": [],
   "source": [
    "X_train, X_test, y_train, y_test = train_test_split(X, y, test_size=0.25, random_state=42)\n"
   ]
  },
  {
   "cell_type": "code",
   "execution_count": 23,
   "id": "315a60a5",
   "metadata": {},
   "outputs": [],
   "source": [
    "rf_regressor = RandomForestRegressor(n_estimators=1500,max_depth=15, bootstrap=True, random_state=42)"
   ]
  },
  {
   "cell_type": "code",
   "execution_count": 24,
   "id": "71244231",
   "metadata": {},
   "outputs": [
    {
     "data": {
      "text/html": [
       "<style>#sk-container-id-2 {color: black;}#sk-container-id-2 pre{padding: 0;}#sk-container-id-2 div.sk-toggleable {background-color: white;}#sk-container-id-2 label.sk-toggleable__label {cursor: pointer;display: block;width: 100%;margin-bottom: 0;padding: 0.3em;box-sizing: border-box;text-align: center;}#sk-container-id-2 label.sk-toggleable__label-arrow:before {content: \"▸\";float: left;margin-right: 0.25em;color: #696969;}#sk-container-id-2 label.sk-toggleable__label-arrow:hover:before {color: black;}#sk-container-id-2 div.sk-estimator:hover label.sk-toggleable__label-arrow:before {color: black;}#sk-container-id-2 div.sk-toggleable__content {max-height: 0;max-width: 0;overflow: hidden;text-align: left;background-color: #f0f8ff;}#sk-container-id-2 div.sk-toggleable__content pre {margin: 0.2em;color: black;border-radius: 0.25em;background-color: #f0f8ff;}#sk-container-id-2 input.sk-toggleable__control:checked~div.sk-toggleable__content {max-height: 200px;max-width: 100%;overflow: auto;}#sk-container-id-2 input.sk-toggleable__control:checked~label.sk-toggleable__label-arrow:before {content: \"▾\";}#sk-container-id-2 div.sk-estimator input.sk-toggleable__control:checked~label.sk-toggleable__label {background-color: #d4ebff;}#sk-container-id-2 div.sk-label input.sk-toggleable__control:checked~label.sk-toggleable__label {background-color: #d4ebff;}#sk-container-id-2 input.sk-hidden--visually {border: 0;clip: rect(1px 1px 1px 1px);clip: rect(1px, 1px, 1px, 1px);height: 1px;margin: -1px;overflow: hidden;padding: 0;position: absolute;width: 1px;}#sk-container-id-2 div.sk-estimator {font-family: monospace;background-color: #f0f8ff;border: 1px dotted black;border-radius: 0.25em;box-sizing: border-box;margin-bottom: 0.5em;}#sk-container-id-2 div.sk-estimator:hover {background-color: #d4ebff;}#sk-container-id-2 div.sk-parallel-item::after {content: \"\";width: 100%;border-bottom: 1px solid gray;flex-grow: 1;}#sk-container-id-2 div.sk-label:hover label.sk-toggleable__label {background-color: #d4ebff;}#sk-container-id-2 div.sk-serial::before {content: \"\";position: absolute;border-left: 1px solid gray;box-sizing: border-box;top: 0;bottom: 0;left: 50%;z-index: 0;}#sk-container-id-2 div.sk-serial {display: flex;flex-direction: column;align-items: center;background-color: white;padding-right: 0.2em;padding-left: 0.2em;position: relative;}#sk-container-id-2 div.sk-item {position: relative;z-index: 1;}#sk-container-id-2 div.sk-parallel {display: flex;align-items: stretch;justify-content: center;background-color: white;position: relative;}#sk-container-id-2 div.sk-item::before, #sk-container-id-2 div.sk-parallel-item::before {content: \"\";position: absolute;border-left: 1px solid gray;box-sizing: border-box;top: 0;bottom: 0;left: 50%;z-index: -1;}#sk-container-id-2 div.sk-parallel-item {display: flex;flex-direction: column;z-index: 1;position: relative;background-color: white;}#sk-container-id-2 div.sk-parallel-item:first-child::after {align-self: flex-end;width: 50%;}#sk-container-id-2 div.sk-parallel-item:last-child::after {align-self: flex-start;width: 50%;}#sk-container-id-2 div.sk-parallel-item:only-child::after {width: 0;}#sk-container-id-2 div.sk-dashed-wrapped {border: 1px dashed gray;margin: 0 0.4em 0.5em 0.4em;box-sizing: border-box;padding-bottom: 0.4em;background-color: white;}#sk-container-id-2 div.sk-label label {font-family: monospace;font-weight: bold;display: inline-block;line-height: 1.2em;}#sk-container-id-2 div.sk-label-container {text-align: center;}#sk-container-id-2 div.sk-container {/* jupyter's `normalize.less` sets `[hidden] { display: none; }` but bootstrap.min.css set `[hidden] { display: none !important; }` so we also need the `!important` here to be able to override the default hidden behavior on the sphinx rendered scikit-learn.org. See: https://github.com/scikit-learn/scikit-learn/issues/21755 */display: inline-block !important;position: relative;}#sk-container-id-2 div.sk-text-repr-fallback {display: none;}</style><div id=\"sk-container-id-2\" class=\"sk-top-container\"><div class=\"sk-text-repr-fallback\"><pre>RandomForestRegressor(max_depth=15, n_estimators=1500, random_state=42)</pre><b>In a Jupyter environment, please rerun this cell to show the HTML representation or trust the notebook. <br />On GitHub, the HTML representation is unable to render, please try loading this page with nbviewer.org.</b></div><div class=\"sk-container\" hidden><div class=\"sk-item\"><div class=\"sk-estimator sk-toggleable\"><input class=\"sk-toggleable__control sk-hidden--visually\" id=\"sk-estimator-id-2\" type=\"checkbox\" checked><label for=\"sk-estimator-id-2\" class=\"sk-toggleable__label sk-toggleable__label-arrow\">RandomForestRegressor</label><div class=\"sk-toggleable__content\"><pre>RandomForestRegressor(max_depth=15, n_estimators=1500, random_state=42)</pre></div></div></div></div></div>"
      ],
      "text/plain": [
       "RandomForestRegressor(max_depth=15, n_estimators=1500, random_state=42)"
      ]
     },
     "execution_count": 24,
     "metadata": {},
     "output_type": "execute_result"
    }
   ],
   "source": [
    "rf_regressor.fit(X_train, y_train)"
   ]
  },
  {
   "cell_type": "code",
   "execution_count": 25,
   "id": "6760b180",
   "metadata": {},
   "outputs": [],
   "source": [
    "y_pred = rf_regressor.predict(X_test)"
   ]
  },
  {
   "cell_type": "code",
   "execution_count": 26,
   "id": "72731242",
   "metadata": {},
   "outputs": [],
   "source": [
    "from sklearn.metrics import mean_absolute_error\n",
    "mae = mean_absolute_error(y_test, y_pred)\n",
    "mse = mean_squared_error(y_test, y_pred)\n",
    "y_pred_rf_train = rf_regressor.predict(X_train)\n",
    "y_pred_rf_test = rf_regressor.predict(X_test)\n",
    "rmse_rf = (np.sqrt(mean_squared_error(y_test, y_pred_rf_test)))"
   ]
  },
  {
   "cell_type": "code",
   "execution_count": 27,
   "id": "63aadf69",
   "metadata": {},
   "outputs": [
    {
     "name": "stdout",
     "output_type": "stream",
     "text": [
      "Mean Squared Error (MSE): 2.2625628834720275\n",
      "Mean absolute Error(MAE): 1.3178661786079775\n",
      "RMSE:  1.5041817986772834\n"
     ]
    }
   ],
   "source": [
    "print(\"Mean Squared Error (MSE):\", mse)\n",
    "print(\"Mean absolute Error(MAE):\", mae)\n",
    "print(\"RMSE: \", rmse_rf)"
   ]
  },
  {
   "cell_type": "code",
   "execution_count": 28,
   "id": "660d3530",
   "metadata": {},
   "outputs": [
    {
     "name": "stdout",
     "output_type": "stream",
     "text": [
      "    Real Values  Predicted Values\n",
      "0     44.954965         43.516257\n",
      "13    40.486963         43.306222\n",
      "8     41.978523         43.217247\n",
      "1     45.530955         44.931133\n",
      "15    44.887922         43.873581\n"
     ]
    }
   ],
   "source": [
    "y_pred = rf_regressor.predict(X_test)\n",
    "\n",
    "import pandas as pd\n",
    "df_predictions = pd.DataFrame({'Real Values': y_test, 'Predicted Values': y_pred})\n",
    "print(df_predictions.head())"
   ]
  },
  {
   "cell_type": "code",
   "execution_count": 29,
   "id": "21141b43",
   "metadata": {},
   "outputs": [],
   "source": [
    "df_predictions['Percentage Difference'] = abs((df_predictions['Real Values'] - df_predictions['Predicted Values']) / df_predictions['Real Values']) * 100\n"
   ]
  },
  {
   "cell_type": "code",
   "execution_count": 30,
   "id": "4fcd38b4",
   "metadata": {},
   "outputs": [
    {
     "data": {
      "text/html": [
       "<div>\n",
       "<style scoped>\n",
       "    .dataframe tbody tr th:only-of-type {\n",
       "        vertical-align: middle;\n",
       "    }\n",
       "\n",
       "    .dataframe tbody tr th {\n",
       "        vertical-align: top;\n",
       "    }\n",
       "\n",
       "    .dataframe thead th {\n",
       "        text-align: right;\n",
       "    }\n",
       "</style>\n",
       "<table border=\"1\" class=\"dataframe\">\n",
       "  <thead>\n",
       "    <tr style=\"text-align: right;\">\n",
       "      <th></th>\n",
       "      <th>Real Values</th>\n",
       "      <th>Predicted Values</th>\n",
       "      <th>Accuracy</th>\n",
       "    </tr>\n",
       "  </thead>\n",
       "  <tbody>\n",
       "    <tr>\n",
       "      <th>0</th>\n",
       "      <td>44.954965</td>\n",
       "      <td>43.516257</td>\n",
       "      <td>96.799669</td>\n",
       "    </tr>\n",
       "    <tr>\n",
       "      <th>13</th>\n",
       "      <td>40.486963</td>\n",
       "      <td>43.306222</td>\n",
       "      <td>93.036624</td>\n",
       "    </tr>\n",
       "    <tr>\n",
       "      <th>8</th>\n",
       "      <td>41.978523</td>\n",
       "      <td>43.217247</td>\n",
       "      <td>97.049147</td>\n",
       "    </tr>\n",
       "    <tr>\n",
       "      <th>1</th>\n",
       "      <td>45.530955</td>\n",
       "      <td>44.931133</td>\n",
       "      <td>98.682606</td>\n",
       "    </tr>\n",
       "    <tr>\n",
       "      <th>15</th>\n",
       "      <td>44.887922</td>\n",
       "      <td>43.873581</td>\n",
       "      <td>97.740282</td>\n",
       "    </tr>\n",
       "    <tr>\n",
       "      <th>5</th>\n",
       "      <td>46.866578</td>\n",
       "      <td>46.070235</td>\n",
       "      <td>98.300830</td>\n",
       "    </tr>\n",
       "  </tbody>\n",
       "</table>\n",
       "</div>"
      ],
      "text/plain": [
       "    Real Values  Predicted Values   Accuracy\n",
       "0     44.954965         43.516257  96.799669\n",
       "13    40.486963         43.306222  93.036624\n",
       "8     41.978523         43.217247  97.049147\n",
       "1     45.530955         44.931133  98.682606\n",
       "15    44.887922         43.873581  97.740282\n",
       "5     46.866578         46.070235  98.300830"
      ]
     },
     "execution_count": 30,
     "metadata": {},
     "output_type": "execute_result"
    }
   ],
   "source": [
    "df_predictions['Accuracy'] = 100 - df_predictions['Percentage Difference']\n",
    "df_accuracy = df_predictions.drop('Percentage Difference', axis = 1)\n",
    "df_accuracy\n"
   ]
  },
  {
   "cell_type": "code",
   "execution_count": 31,
   "id": "7652b63b",
   "metadata": {},
   "outputs": [
    {
     "name": "stdout",
     "output_type": "stream",
     "text": [
      "Genauigkeit des Modells auf die Testdaten beträgt 96.93 %\n"
     ]
    }
   ],
   "source": [
    "df_mean_accuracy= df_accuracy.drop(['Real Values','Predicted Values'], axis=1)\n",
    "df_mean_accuracy=df_mean_accuracy.mean()\n",
    "print('Genauigkeit des Modells auf die Testdaten beträgt',\"{:.2f}\".format(df_mean_accuracy['Accuracy']),'%')"
   ]
  },
  {
   "cell_type": "code",
   "execution_count": 141,
   "id": "89c1375b",
   "metadata": {},
   "outputs": [
    {
     "name": "stdout",
     "output_type": "stream",
     "text": [
      "Der vorhergesagte Wert liegt mit einer Genauigkeit von 97.02 % bei 43.50 MPa\n"
     ]
    }
   ],
   "source": [
    "#Vorhersage treffen\n",
    "\n",
    "Schichtdicke = 0.2\n",
    "Drucktemperatur = 210\n",
    "Druckgeschwindigkeit = 60\n",
    "Fülldichte = 50\n",
    "\n",
    "x1= Schichtdicke\n",
    "x2= Drucktemperatur\n",
    "x3= Druckgeschwindigkeit\n",
    "x4= Fülldichte\n",
    "\n",
    "eingangsdaten= [[x1, x2, x3, x4]]\n",
    "\n",
    "vorhersagen = rf_regressor.predict(eingangsdaten)\n",
    "\n",
    "print('Der vorhergesagte Wert liegt mit einer Genauigkeit von',\"{:.2f}\".format(df_mean_accuracy['Accuracy']),'% bei',\"{:.2f}\".format(vorhersagen[0]),\"MPa\")"
   ]
  },
  {
   "cell_type": "code",
   "execution_count": 15,
   "id": "8313b171",
   "metadata": {},
   "outputs": [
    {
     "data": {
      "text/plain": [
       "['RFR_Zug V.pkl']"
      ]
     },
     "execution_count": 15,
     "metadata": {},
     "output_type": "execute_result"
    }
   ],
   "source": [
    "joblib.dump(rf_regressor, 'RFR_Zug V.pkl')"
   ]
  },
  {
   "cell_type": "code",
   "execution_count": null,
   "id": "095bdf4f",
   "metadata": {},
   "outputs": [],
   "source": []
  }
 ],
 "metadata": {
  "kernelspec": {
   "display_name": "Python 3 (ipykernel)",
   "language": "python",
   "name": "python3"
  },
  "language_info": {
   "codemirror_mode": {
    "name": "ipython",
    "version": 3
   },
   "file_extension": ".py",
   "mimetype": "text/x-python",
   "name": "python",
   "nbconvert_exporter": "python",
   "pygments_lexer": "ipython3",
   "version": "3.8.18"
  }
 },
 "nbformat": 4,
 "nbformat_minor": 5
}
